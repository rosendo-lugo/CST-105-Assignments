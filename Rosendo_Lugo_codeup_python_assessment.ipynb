{
  "nbformat": 4,
  "nbformat_minor": 5,
  "metadata": {
    "kernelspec": {
      "display_name": "Python 3",
      "language": "python",
      "name": "python3"
    },
    "language_info": {
      "codemirror_mode": {
        "name": "ipython",
        "version": 3
      },
      "file_extension": ".py",
      "mimetype": "text/x-python",
      "name": "python",
      "nbconvert_exporter": "python",
      "pygments_lexer": "ipython3",
      "version": "3.8.5"
    },
    "colab": {
      "provenance": [],
      "collapsed_sections": [],
      "include_colab_link": true
    }
  },
  "cells": [
    {
      "cell_type": "markdown",
      "metadata": {
        "id": "view-in-github",
        "colab_type": "text"
      },
      "source": [
        "<a href=\"https://colab.research.google.com/github/rolugo/CST-105-Assignments/blob/master/Rosendo_Lugo_codeup_python_assessment.ipynb\" target=\"_parent\"><img src=\"https://colab.research.google.com/assets/colab-badge.svg\" alt=\"Open In Colab\"/></a>"
      ]
    },
    {
      "cell_type": "markdown",
      "metadata": {
        "id": "WUV9JBM1Sv7Y"
      },
      "source": [
        "# Welcome to the Codeup Data Science Python Admissions Assessment\n",
        "\n",
        "## What is this document?\n",
        "This is a take-home admissions assessment for the Python part of your Codeup Data Science admissions application. This assessment measures your ability to read problems in English and write Python code that satisfies the specification. You have up to 3 weeks to solve these exercises and return your code to admissions@codeup.com.\n",
        "\n",
        "## So What?\n",
        "Because programming is an important part of Data Science, it is critical for applicants to demonstrate the ability to solve problems in Python as part of the admissions process. This is because we want to set you up for success with both the Data Science program and your career in data. If you don't already know Python, this exercise will be part of that journey, which is why you have the provided time period.\n",
        "\n",
        "## Now What?\n",
        "- From the time you receive this take-home assessment, you have 3 weeks to complete turn it in to admissions@codeup.com. \n",
        "- We *strongly* recommend working through and using these two notebooks to build your Python skills as rapidly as possible.\n",
        "  1. [This Intro to Python notebook](https://colab.research.google.com/github/ryanorsinger/learn-to-code-python-workshop/blob/main/intro-to-python.ipynb) introduces Python basics and will be a good place to orient yourself with how Python runs inside of a notebook.\n",
        "  2. [The 101 Python Exercises](https://colab.research.google.com/github/ryanorsinger/101-exercises/blob/main/101-exercises.ipynb) share the same format as the exercises in this document. The exercises start small and build up to and beyond the challenge level contained in this assessment.\n",
        "\n",
        "\n",
        "### Getting Started\n",
        "- Login to your Google account. If you need to create a Google account, [click here](https://accounts.google.com/signup)\n",
        "- To save your work on this notebook to your Google Drive, go to File then \"Save Copy in Drive\".\n",
        "- Your own work will now appear in your Google Drive account.\n",
        "- Rename your assessment file to be your `firstname_lastname_codeup_python_assessment`. \n",
        "- If you ever need to make a fresh copy of this notebook, navigate to [the original copy of this notebook](https://colab.research.google.com/drive/1TIPXdXJwR6BjiEEBJJsI0-X2FtQIDbl0?usp=sharing) and save a fresh copy to your Google Drive.\n",
        "- To ensure that Codeup admissions and instructors can access your work as you go:\n",
        "    1. Rename your notebook to `firstname_lastname_codeup_python_assessment.ipynb` so Admissions knows it's yours.\n",
        "    2. Go to \"Share\" in the upper right hand corner, and set View access to \"Anyone with the link\".\n",
        "    3. Copy the link to your completed notebook.\n",
        "    4. Email the share link for this document to admissions@codeup.com\n",
        "- When you start, be sure to share your link with admissions@codeup.com to let us know.\n",
        "\n",
        "### Orientation\n",
        "- This code notebook is composed of cells. Each cell is either text or Python code.\n",
        "- Google Colab notebooks allow us to run Python code in a browser without needing to install or configure anything on your computer.\n",
        "- To run a cell of code, click the \"play button\" icon to the left of the cell or click on the cell and press \"Shift+Enter\" on your keyboard. This will execute the Python code contained in the cell. Executing a cell that defines a variable is important before executing or authoring a cell that depends on that previously created variable assignment.\n",
        "- Each **assert** line is both an executable example and a test that tests for the presence and functionality of the instructed exercise. \n",
        "\n",
        "### Outline\n",
        "- Each cell starts with a problem statement that describes the exercise to complete.\n",
        "- Underneath each problem statement, learners will need to write code to produce an answer.\n",
        "- The **assert** lines test to see that your code solves the problem appropriately\n",
        "- The `print(\"Exercise is complete\")` line will only run if your solution passes the assertion test(s)\n",
        "- Be sure to create programmatic solutions that will work for all inputs. Anything else is not a programmatic solution. For example, your `add` function should add any two numbers together, not only the numbers provided in the assert tests.\n",
        "- Do not alter or change the **assert** tests, since those test your code automatically. Breaking the tests is akin to academic dishonesty, so we don't recommend it. \n",
        "\n",
        "### Guidance and Troubleshooting\n",
        "- [The 101 Python Exercises](https://colab.research.google.com/github/ryanorsinger/101-exercises/blob/main/101-exercises.ipynb) and [this intro to Python notebook](https://colab.research.google.com/github/ryanorsinger/learn-to-code-python-workshop/blob/main/intro-to-python.ipynb) are your \"textbooks\" for practicing for this assessment.\n",
        "- If the exercise needs you to calculate the square root, then search for \"How to get the square root of a number in Python\" \n",
        "- The pattern for finding what you need in Python is to rely very heavily on search engine searches so you can find examples of working code and discussions about code that speak to your questions.\n",
        "- Expect to make TONS of search engine searches. Both practitioners and studens use search engines all the time with programming.\n",
        "- Further advice from the instructional team:\n",
        "  - Slow down and think before you code.\n",
        "  - Expect to make mistakes. Mistakes are part of learning.\n",
        "  - Read both the specifications and your own code very carefully\n",
        "  - Attention to detail with code matters. Spotting differences is critical.\n",
        "  - Code does what you have told it to do, not what you meant for it to do.\n",
        "\n",
        "### Assistance and Getting Help\n",
        "- Because this assessment is a take-home, we will not provide debugging help or direct guidance on these assessment questions. \n",
        "- Because we want to set you up for success, however, we will provide guidance and troubleshooting assistance on any questions you may have on [the 101 Python Exercises](https://colab.research.google.com/github/ryanorsinger/101-exercises/blob/main/101-exercises.ipynb).\n",
        "- If you get stuck on this assessment, work through [the 101 Python Exercises](https://colab.research.google.com/github/ryanorsinger/101-exercises/blob/main/101-exercises.ipynb) to strengthen your problem solving abilities.\n",
        "\n",
        "\n",
        "### Turning in this assessment\n",
        "- As soon as you begin your work, share a share link to your assessment with admissions@codeup.com\n",
        "- To ensure that Codeup admissions and instructors can access your work:\n",
        "    1. Rename your notebook to `firstname_lastname_codeup_python_assessment.ipynb` so Admissions knows it's yours.\n",
        "    2. Go to \"Share\" in the upper right hand corner, and set View access to \"Anyone with the link\".\n",
        "    3. Copy the link to your completed notebook.\n",
        "    4. Email the share link for this document to admissions@codeup.com\n",
        "- As soon as you are finished or your time is up, email admissions@codeup.com with your share link."
      ],
      "id": "WUV9JBM1Sv7Y"
    },
    {
      "cell_type": "code",
      "metadata": {
        "id": "Yc9lMsqkSv7d",
        "outputId": "b12063b3-fd2b-447b-eedb-fe92d5ad75ae",
        "colab": {
          "base_uri": "https://localhost:8080/"
        }
      },
      "source": [
        "# Exercise 1\n",
        "# Write a function named add that takes in two numbers as inputs and returns their sum\n",
        "# For more on functions, see https://realpython.com/defining-your-own-python-function/#functions-in-python\n",
        "\n",
        "def add(n1, n2):\n",
        "  return n1 + n2\n",
        "\n",
        "assert add(1, 2) == 3\n",
        "assert add(5, 5) == 10\n",
        "assert add(99, 100) == 199\n",
        "print(\"Exercise 1 is complete\")"
      ],
      "id": "Yc9lMsqkSv7d",
      "execution_count": null,
      "outputs": [
        {
          "output_type": "stream",
          "name": "stdout",
          "text": [
            "Exercise 1 is complete\n"
          ]
        }
      ]
    },
    {
      "cell_type": "code",
      "metadata": {
        "id": "z5sBNzIQSv7d",
        "colab": {
          "base_uri": "https://localhost:8080/"
        },
        "outputId": "c9c2db75-8f63-403b-da1c-7d1128d0809e"
      },
      "source": [
        "# Exercise 2\n",
        "# Write a function called first_letter. This function should take in a string and return only first letter\n",
        "# Hint: return means return, not print. For more on return, see https://www.w3schools.com/python/ref_keyword_return.asp\n",
        "\n",
        "def first_letter(first):\n",
        "  for char in range(0, len(first)):\n",
        "    return first[0]\n",
        "\n",
        "assert first_letter(\"Hello World!\") == \"H\"\n",
        "assert first_letter(\"Thinking programmatically is key\") == \"T\"\n",
        "assert first_letter(\"Let the code do the work\") == \"L\"\n",
        "assert first_letter(\"Whenever you get stuck, put your question/problem into a search engine\") == \"W\"\n",
        "print(\"Exercise 2 is complete.\")"
      ],
      "id": "z5sBNzIQSv7d",
      "execution_count": 4,
      "outputs": [
        {
          "output_type": "stream",
          "name": "stdout",
          "text": [
            "Exercise 2 is complete.\n"
          ]
        }
      ]
    },
    {
      "cell_type": "code",
      "metadata": {
        "id": "hE_RvD1dSv7e",
        "colab": {
          "base_uri": "https://localhost:8080/"
        },
        "outputId": "a6648e2a-4c28-49ed-8b44-65842e45e0a1"
      },
      "source": [
        "# Exercise 3\n",
        "# Write a function named first_word that takes in a string and returns the first word in that string\n",
        "# Hint: return means return, not print\n",
        "# For example, first_word(\"Hello World\") is \"Hello\"\n",
        "\n",
        "def first_word(first):\n",
        "    return first.split()[0]\n",
        "\n",
        "assert first_word(\"Hello World\") == \"Hello\"\n",
        "assert first_word(\"Thinking programmatically is key\") == \"Thinking\"\n",
        "assert first_word(\"Let the code do the work\") == \"Let\"\n",
        "assert first_word(\"Whenever you get stuck, put your question/problem into a search engine\") == \"Whenever\"\n",
        "print(\"Exercise 3 is complete.\")"
      ],
      "id": "hE_RvD1dSv7e",
      "execution_count": 5,
      "outputs": [
        {
          "output_type": "stream",
          "name": "stdout",
          "text": [
            "Exercise 3 is complete.\n"
          ]
        }
      ]
    },
    {
      "cell_type": "code",
      "metadata": {
        "id": "r3QzoZUkSv7e",
        "colab": {
          "base_uri": "https://localhost:8080/"
        },
        "outputId": "6ac4e0fb-51e3-4c5e-9e86-0a764b3bd9e9"
      },
      "source": [
        "# Exercise 4\n",
        "# Write a function named is_two that takes in a variable and returns True or False if the input is the number 2 or the string \"2\"\n",
        "\n",
        "def is_two(num_str):\n",
        "    if num_str == 2 or num_str == \"2\":\n",
        "      return True\n",
        "    else:\n",
        "      return False\n",
        "\n",
        "assert is_two(2) == True\n",
        "assert is_two(\"2\") == True\n",
        "assert is_two(3) == False\n",
        "assert is_two(10) == False\n",
        "assert is_two(\"two\") == False\n",
        "print(\"Exercise 4 is complete.\")"
      ],
      "id": "r3QzoZUkSv7e",
      "execution_count": 1,
      "outputs": [
        {
          "output_type": "stream",
          "name": "stdout",
          "text": [
            "Exercise 4 is complete.\n"
          ]
        }
      ]
    },
    {
      "cell_type": "code",
      "metadata": {
        "id": "Kas_p3QfSv7e",
        "colab": {
          "base_uri": "https://localhost:8080/"
        },
        "outputId": "4d1a175f-5a91-4582-95d7-3040d7d9874e"
      },
      "source": [
        "# Exercise 5\n",
        "# Write a function named times_two_plus_three that takes in a number, multiplies it by two and adds three to produce the result\n",
        "\n",
        "def times_two_plus_three(num):\n",
        "    return num * 2 + 3\n",
        "\n",
        "assert times_two_plus_three(0) == 3\n",
        "assert times_two_plus_three(1) == 5\n",
        "assert times_two_plus_three(-3.5) == -4.0\n",
        "print(\"Exercise 5 is complete.\")"
      ],
      "id": "Kas_p3QfSv7e",
      "execution_count": 2,
      "outputs": [
        {
          "output_type": "stream",
          "name": "stdout",
          "text": [
            "Exercise 5 is complete.\n"
          ]
        }
      ]
    },
    {
      "cell_type": "code",
      "metadata": {
        "id": "IrLA-1i5Sv7f",
        "colab": {
          "base_uri": "https://localhost:8080/"
        },
        "outputId": "8f23f42c-d95c-4085-c34e-ff0e353c9507"
      },
      "source": [
        "# Exercise 6\n",
        "# Write a function name sum_from_one_to(x) which sums all the integers from 1 up to and including the number provided by the number input\n",
        "\n",
        "def sum_from_one_to(x):\n",
        "  return (x * (x + 1)//2)\n",
        "\n",
        "assert sum_from_one_to(2) == 3 # because 1 + 2 is 3\n",
        "assert sum_from_one_to(3) == 6 # because 1 + 2 + 3 is 6\n",
        "assert sum_from_one_to(4) == 10 # because 1 + 2 + 3 + 4 is 10\n",
        "assert sum_from_one_to(10) == 55 # because 1 + 2 + 3 + 4 + 5 + 6 + 7 + 8 + 9 + 10 is 55\n",
        "print(\"Exercise 6 is complete.\")"
      ],
      "id": "IrLA-1i5Sv7f",
      "execution_count": 3,
      "outputs": [
        {
          "output_type": "stream",
          "name": "stdout",
          "text": [
            "Exercise 6 is complete.\n"
          ]
        }
      ]
    },
    {
      "cell_type": "code",
      "metadata": {
        "id": "ynYuqzWKSv7f",
        "colab": {
          "base_uri": "https://localhost:8080/"
        },
        "outputId": "d292a145-a7a5-47a9-f47a-a3f508c3002f"
      },
      "source": [
        "# Exercise 7\n",
        "# Write a function named add_one_to_all that takes in a list of numbers and adds one to each of the original numbers\n",
        "\n",
        "def add_one_to_all(old_list):\n",
        "  new_list = [x + 1 for x in old_list]\n",
        "  return new_list\n",
        "\n",
        "assert add_one_to_all([0, 0, 0]) == [1, 1, 1]\n",
        "assert add_one_to_all([1, 2, 3]) == [2, 3, 4]\n",
        "assert add_one_to_all([6, 7, 8]) == [7, 8, 9]\n",
        "print(\"Exercise 7 is complete.\")"
      ],
      "id": "ynYuqzWKSv7f",
      "execution_count": 4,
      "outputs": [
        {
          "output_type": "stream",
          "name": "stdout",
          "text": [
            "Exercise 7 is complete.\n"
          ]
        }
      ]
    },
    {
      "cell_type": "code",
      "metadata": {
        "id": "h-8f0koDSv7f",
        "colab": {
          "base_uri": "https://localhost:8080/"
        },
        "outputId": "09760817-2117-4ea2-ecd1-ed56b252dd9d"
      },
      "source": [
        "# Exercise 8\n",
        "# Write a function named last that takes in a list of values and returns the very last item from that list\n",
        "\n",
        "def last(num_str_sequence):\n",
        "  for i in range(0, len(num_str_sequence)):\n",
        "    return num_str_sequence[-1]\n",
        "\n",
        "assert last([1, 2, 3]) == 3\n",
        "assert last([\"Python\", \"SQL\", \"machine learning\"]) == \"machine learning\"\n",
        "assert last([5, 4, 3, 2, 1]) == 1\n",
        "assert last([[1, 2, 3], [4, 5, 6], [7, 8, 9]]) == [7, 8, 9]\n",
        "print(\"Exercise 8 is complete.\")"
      ],
      "id": "h-8f0koDSv7f",
      "execution_count": 5,
      "outputs": [
        {
          "output_type": "stream",
          "name": "stdout",
          "text": [
            "Exercise 8 is complete.\n"
          ]
        }
      ]
    },
    {
      "cell_type": "code",
      "metadata": {
        "id": "qMvumjNTSv7f",
        "colab": {
          "base_uri": "https://localhost:8080/"
        },
        "outputId": "ec38e65a-16f4-474b-c5e0-3d119970cd8c"
      },
      "source": [
        "# Exercise 9\n",
        "# Write a function named remove_evens that takes in a list of numbers and returns that list with the even numbers removed\n",
        "\n",
        "def remove_evens(old_list2):\n",
        "  new_list = []\n",
        "  for num in old_list2:\n",
        "    if num % 2 != 0:\n",
        "      new_list.append(num)\n",
        "  return new_list\n",
        "\n",
        "assert remove_evens([1, 2, 3, 4]) == [1, 3]\n",
        "assert remove_evens([1, 1, 1, 4, 4, 4, 4]) == [1, 1, 1]\n",
        "assert remove_evens([5, 6, 7, 8, 9, 10]) == [5, 7, 9]\n",
        "assert remove_evens([2, 2, 2, 2, 2]) == []\n",
        "print(\"Exercise 9 is complete.\")"
      ],
      "id": "qMvumjNTSv7f",
      "execution_count": 8,
      "outputs": [
        {
          "output_type": "stream",
          "name": "stdout",
          "text": [
            "Exercise 9 is complete.\n"
          ]
        }
      ]
    },
    {
      "cell_type": "code",
      "metadata": {
        "id": "PQgW9XPxTRIj",
        "colab": {
          "base_uri": "https://localhost:8080/"
        },
        "outputId": "3efc7d4a-a094-43b7-fbed-b9909bd6c86b"
      },
      "source": [
        "# Exercise 10\n",
        "# Write a function named norm that takes in a list of numbers and returns the Euclidean norm of those numbers.\n",
        "# The Euclidean norm is defined as the square root of the sum of squaring all of the numbers in a list of numbers.\n",
        "# For a list of 2 numbers, the norm is the same as calculating the length of the hypotenuse of a right triangle with sides of the 2 given lengths (see Pythagorean Theorum)\n",
        "# For a list of 3 numbers, the norm would be the extension of this: d^2 = a^2 + b^2 + c^2\n",
        "# The algorithm is 3 steps:\n",
        "# Step 1: Square every number in a list of numbers.\n",
        "# Step 2: Sum all the squares together.\n",
        "# Step 3: Take the square root of that sum.\n",
        "# Your function needs to operate on a number list of any length. \n",
        "\n",
        "def norm(num_list):\n",
        "  total = 0\n",
        "  for num in num_list:\n",
        "    total = total + num**2\n",
        "    square_root = total ** .5\n",
        "  return square_root\n",
        "\n",
        "assert norm([0, 0]) == 0 # because the square root of 0 is 0.\n",
        "assert norm([3, 4]) == 5 # because 9 + 16 is 25 and the square root of 25 is 5.\n",
        "assert norm([0, 0, 1]) == 1 # because the square root of 1 is 1.\n",
        "assert norm([1, 2, 3, 4, 5, 6, 7 ]) == 11.832159566199232\n",
        "assert norm([5, 5, 5]) == 8.660254037844387\n",
        "assert norm([5, 5, 5, 5]) == 10\n",
        "assert norm([4, 5, 7]) == 9.486832980505138\n",
        "assert norm([3, 6, 9]) == 11.224972160321824\n",
        "assert norm([-10, 42, 25, 7, 8, 9, -29, 10]) == 60.199667773169644\n",
        "print(\"Exercise 10 is complete.\")"
      ],
      "id": "PQgW9XPxTRIj",
      "execution_count": 11,
      "outputs": [
        {
          "output_type": "stream",
          "name": "stdout",
          "text": [
            "Exercise 10 is complete.\n"
          ]
        }
      ]
    }
  ]
}