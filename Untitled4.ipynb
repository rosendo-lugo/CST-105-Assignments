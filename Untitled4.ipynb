{
  "nbformat": 4,
  "nbformat_minor": 0,
  "metadata": {
    "colab": {
      "provenance": [],
      "authorship_tag": "ABX9TyPE2LE1MyTu3Vl0Z/YoUSqu",
      "include_colab_link": true
    },
    "kernelspec": {
      "name": "python3",
      "display_name": "Python 3"
    },
    "language_info": {
      "name": "python"
    }
  },
  "cells": [
    {
      "cell_type": "markdown",
      "metadata": {
        "id": "view-in-github",
        "colab_type": "text"
      },
      "source": [
        "<a href=\"https://colab.research.google.com/github/rolugo/CST-105-Assignments/blob/master/Untitled4.ipynb\" target=\"_parent\"><img src=\"https://colab.research.google.com/assets/colab-badge.svg\" alt=\"Open In Colab\"/></a>"
      ]
    },
    {
      "cell_type": "code",
      "execution_count": null,
      "metadata": {
        "colab": {
          "base_uri": "https://localhost:8080/"
        },
        "id": "Z0BeswqI3_p-",
        "outputId": "e3831d51-b1e4-42ee-fcc5-6053a2802331"
      },
      "outputs": [
        {
          "output_type": "stream",
          "name": "stdout",
          "text": [
            "Enter your choice of \"Rock\", \"Paper\", or \"Scissors\": paper\n",
            "The computer's selected: rock\n",
            "\n",
            "Paper wraps rock. You WIN!\n",
            "Enter your choice of \"Rock\", \"Paper\", or \"Scissors\": paper\n",
            "The computer's selected: scissors\n",
            "\n",
            "Scissors cuts paper. The computer WINS!\n"
          ]
        }
      ],
      "source": [
        "# Rosendo Lugo Jr.\n",
        "# Chapter 5 Programming\n",
        "# The game of Rock, Paper, Scissors against the computer.\n",
        "\n",
        "# A random number is created for the computer choice.\n",
        "import random\n",
        "\n",
        "game_options = (\"rock\", \"paper\", \"scissors\")\n",
        "continue_playing = True\n",
        "\n",
        "\n",
        "def main():\n",
        "    winner()\n",
        "    user_choice()\n",
        "    computer_choice()\n",
        "\n",
        "\n",
        "def user_choice():\n",
        "    player = None\n",
        "    while player not in game_options:\n",
        "        player = input('Enter your choice of \"Rock\", \"Paper\", or \"Scissors\": ').lower()\n",
        "    return player\n",
        "\n",
        "\n",
        "def computer_choice():\n",
        "    computer = random.choice(game_options)\n",
        "    print(\"The computer's selected:\", computer)\n",
        "    print('')\n",
        "    return computer\n",
        "\n",
        "\n",
        "def winner():\n",
        "    champ = True\n",
        "    while champ:\n",
        "        player = user_choice()\n",
        "        computer = computer_choice()\n",
        "        if player == computer:\n",
        "            print(\"It's a draw! Play until there is a Winner!\")\n",
        "        elif player == \"rock\" and computer == \"scissors\":\n",
        "            print(\"Rock smashes scissors. You WIN!\")\n",
        "        elif player == \"scissors\" and computer == \"paper\":\n",
        "            print(\"Scissors cuts paper. You WIN!\")\n",
        "        elif player == \"paper\" and computer == \"rock\":\n",
        "            print(\"Paper wraps rock. You WIN!\")\n",
        "        elif computer == \"rock\" and player == \"scissors\":\n",
        "            print(\"Rock smashes scissors. The computer WINS!\")\n",
        "        elif computer == \"scissors\" and player == \"paper\":\n",
        "            print(\"Scissors cuts paper. The computer WINS!\")\n",
        "        elif computer == \"paper\" and player == \"rock\":\n",
        "            print(\"Paper wraps rock. The computer WINS! \")\n",
        "    return champ\n",
        "\n",
        "\n",
        "# Call the main function\n",
        "main()\n",
        "print('Thanks for playing.')"
      ]
    }
  ]
}